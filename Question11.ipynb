{
 "cells": [
  {
   "cell_type": "code",
   "execution_count": 9,
   "id": "d7b5660f-df1e-48c6-8b47-5f263b099cdf",
   "metadata": {},
   "outputs": [
    {
     "ename": "SyntaxError",
     "evalue": "unterminated string literal (detected at line 33) (292151466.py, line 33)",
     "output_type": "error",
     "traceback": [
      "\u001b[1;36m  Cell \u001b[1;32mIn[9], line 33\u001b[1;36m\u001b[0m\n\u001b[1;33m    \"\u001b[0m\n\u001b[1;37m    ^\u001b[0m\n\u001b[1;31mSyntaxError\u001b[0m\u001b[1;31m:\u001b[0m unterminated string literal (detected at line 33)\n"
     ]
    }
   ],
   "source": [
    "import pandas as pd\n",
    "import matplotlib.pyplot as plt\n",
    "\n",
    "\n",
    "\n",
    "# Load data\n",
    "file_path = r\"question 11website_traffic_analysis.xlsx\"\n",
    "df = pd.read_excel(file_path)\n",
    "\n",
    "# Prepare data\n",
    "df[\"Date\"] = pd.to_datetime(df[\"Date\"])\n",
    "df = df.sort_values(\"Date\")\n",
    "\n",
    "# Define threshold for significant drop (e.g., more than -10%)\n",
    "drop_threshold = -10\n",
    "df[\"Change (%)\"] = pd.to_numeric(df[\"Change (%)\"], errors=\"coerce\")\n",
    "significant_drops = df[df[\"Change (%)\"] < drop_threshold]\n",
    "\n",
    "# Plot\n",
    "plt.figure(figsize=(14, 7))\n",
    "plt.plot(df[\"Date\"], df[\"Daily Visitors\"], label=\"Daily Visitors\", color=\"blue\", linewidth=2)\n",
    "plt.scatter(significant_drops[\"Date\"], significant_drops[\"Daily Visitors\"], color=\"red\", label=\"Significant Drop\", zorder=5)\n",
    "for drop_date in significant_drops[\"Date\"]:\n",
    "    plt.axvline(x=drop_date, color='red', linestyle='--', alpha=0.3)\n",
    "\n",
    "plt.title(\"Website Daily Visitors with Highlighted Drops\")\n",
    "plt.xlabel(\"Date\")\n",
    "plt.ylabel(\"Number of Visitors\")\n",
    "plt.legend()\n",
    "plt.grid(True)\n",
    "plt.tight_layout()\n",
    "plt.show()\n",
    "\"\n",
    "df = pd.read_excel(file_path)\n",
    "\n",
    "# Prepare data\n",
    "df[\"Date\"] = pd.to_datetime(df[\"Date\"])\n",
    "df = df.sort_values(\"Date\")\n",
    "\n",
    "# Define threshold for significant drop (e.g., more than -10%)\n",
    "drop_threshold = -10\n",
    "df[\"Change (%)\"] = pd.to_numeric(df[\"Change (%)\"], errors=\"coerce\")\n",
    "significant_drops = df[df[\"Change (%)\"] < drop_threshold]\n",
    "\n",
    "# Plot\n",
    "plt.figure(figsize=(14, 7))\n",
    "plt.plot(df[\"Date\"], df[\"Daily Visitors\"], label=\"Daily Visitors\", color=\"blue\", linewidth=2)\n",
    "plt.scatter(significant_drops[\"Date\"], significant_drops[\"Daily Visitors\"], color=\"red\", label=\"Significant Drop\", zorder=5)\n",
    "for drop_date in significant_drops[\"Date\"]:\n",
    "    plt.axvline(x=drop_date, color='red', linestyle='--', alpha=0.3)\n",
    "\n",
    "plt.title(\"Website Daily Visitors with Highlighted Drops\")\n",
    "plt.xlabel(\"Date\")\n",
    "plt.ylabel(\"Number of Visitors\")\n",
    "plt.legend()\n",
    "plt.grid(True)\n",
    "plt.tight_layout()\n",
    "plt.show()\n"
   ]
  },
  {
   "cell_type": "code",
   "execution_count": null,
   "id": "0b7b7bb1-6bc4-46a5-a2e3-582094a14443",
   "metadata": {},
   "outputs": [],
   "source": []
  }
 ],
 "metadata": {
  "kernelspec": {
   "display_name": "Python 3 (ipykernel)",
   "language": "python",
   "name": "python3"
  },
  "language_info": {
   "codemirror_mode": {
    "name": "ipython",
    "version": 3
   },
   "file_extension": ".py",
   "mimetype": "text/x-python",
   "name": "python",
   "nbconvert_exporter": "python",
   "pygments_lexer": "ipython3",
   "version": "3.12.4"
  }
 },
 "nbformat": 4,
 "nbformat_minor": 5
}
